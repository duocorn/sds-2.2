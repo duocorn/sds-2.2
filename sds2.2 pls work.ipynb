{
 "cells": [
  {
   "cell_type": "code",
   "execution_count": null,
   "metadata": {},
   "outputs": [],
   "source": [
    "import numpy as np\n",
    "import pandas as pd\n",
    "import geopandas as gpd\n",
    "import pysal as ps\n",
    "import libpysal as lps\n",
    "import matplotlib.pyplot as plt\n",
    "import pointpats \n",
    "from pointpats import PointPattern\n",
    "import seaborn as sns\n",
    "import urllib\n",
    "import os\n",
    "import zipfile\n",
    "import shapely\n",
    "\n",
    "import warnings\n",
    "warnings.simplefilter('ignore') "
   ]
  },
  {
   "cell_type": "code",
   "execution_count": null,
   "metadata": {},
   "outputs": [],
   "source": [
    "import matplotlib.pyplot as plt"
   ]
  },
  {
   "cell_type": "code",
   "execution_count": null,
   "metadata": {},
   "outputs": [],
   "source": [
    "url  = 'https://github.com/cusp-london/Spatial-Data-Analysis/blob/master/London_Pubs.zip?raw=true'\n",
    "path = os.path.join(\"data\",\"London_Pubs.zip\")\n",
    "r    = urllib.request.urlretrieve(url, path)\n",
    "\n",
    "z    = zipfile.ZipFile(path)\n",
    "m    = z.extractall(\"data\")"
   ]
  },
  {
   "cell_type": "code",
   "execution_count": null,
   "metadata": {},
   "outputs": [],
   "source": [
    "url  = 'https://github.com/cusp-london/Spatial-Data-Analysis/blob/master/LSOA_IMD.zip?raw=true'\n",
    "path = os.path.join(\"data\",\"London_IMD.zip\")\n",
    "r    = urllib.request.urlretrieve(url, path)\n",
    "\n",
    "z    = zipfile.ZipFile(path)\n",
    "m    = z.extractall(\"data\")"
   ]
  },
  {
   "cell_type": "code",
   "execution_count": null,
   "metadata": {},
   "outputs": [],
   "source": [
    "from libpysal.cg import shapely_ext\n",
    "from pointpats import window\n",
    "from pointpats.window import poly_from_bbox, as_window, Window, to_ccf\n",
    "import pointpats.quadrat_statistics as qs"
   ]
  },
  {
   "cell_type": "code",
   "execution_count": null,
   "metadata": {},
   "outputs": [],
   "source": [
    "lsoas = lps.io.open ('data/LSOA_IMD/LSOA_IMD2019.shp') \n",
    "polys = [shp for shp in lsoas] \n",
    "\n",
    "boundary = shapely_ext.cascaded_union(polys)"
   ]
  },
  {
   "cell_type": "code",
   "execution_count": null,
   "metadata": {},
   "outputs": [],
   "source": [
    "len(polys) \n",
    "len(points) "
   ]
  },
  {
   "cell_type": "code",
   "execution_count": null,
   "metadata": {},
   "outputs": [],
   "source": [
    "pp_pubs.plot(window= True, title= \"London Pubs Point pattern\")"
   ]
  },
  {
   "cell_type": "code",
   "execution_count": null,
   "metadata": {},
   "outputs": [],
   "source": [
    "pp_pubs.plot(title=\"London Pubs\")\n",
    "plt.grid(False)\n",
    "plt.xlabel(\"Latitude\")\n",
    "plt.ylabel(\"Longitude\")\n",
    "plt.savefig('foo.png', bbox_inches='tight', dpi=300)"
   ]
  },
  {
   "cell_type": "code",
   "execution_count": null,
   "metadata": {},
   "outputs": [],
   "source": [
    "q_r_pubs = qs.QStatistic(pp_pubs,shape= \"rectangle\",nx = 5, ny = 5)\n",
    "q_r_pubs.plot(title='Rectangle Quadrant Count') \n",
    "q_r_pubs.savefig('RECTANGLE.png',  bbox_inches='tight', dpi=300) "
   ]
  },
  {
   "cell_type": "code",
   "execution_count": null,
   "metadata": {},
   "outputs": [],
   "source": [
    "print('Chi-squared test statistic for the observed point pattern is: '+ str(q_r_pubs.chi2)) \n",
    "print('Degree of freedom is: '+str(q_r_pubs.df)) \n",
    "print('P-valus for Chi-squared test statistic is: '+str.format('{0:.6f}', q_r_pubs.chi2_pvalue)) #6d.p."
   ]
  },
  {
   "cell_type": "code",
   "execution_count": null,
   "metadata": {},
   "outputs": [],
   "source": [
    "q_h_pubs = qs.QStatistic(pp_pubs,shape= \"hexagon\",lh =0.08) \n",
    "q_h_pubs.plot(title='Hexagon Quadrant Count')\n",
    "plt.savefig('HEXAGON.png') \n"
   ]
  },
  {
   "cell_type": "code",
   "execution_count": null,
   "metadata": {},
   "outputs": [],
   "source": [
    "print('Chi-squared test statistic for the observed point pattern is: '+ str(q_h_pubs.chi2)) \n",
    "print('Degree of freedom is: '+str(q_h_pubs.df)) \n",
    "print('P-valus for Chi-squared test statistic is: '+str.format('{0:.6f}', q_h_pubs.chi2_pvalue)) "
   ]
  },
  {
   "cell_type": "code",
   "execution_count": null,
   "metadata": {},
   "outputs": [],
   "source": [
    "lsoas_gdf=gpd.read_file('data/LSOA_IMD/LSOA_IMD2019.shp')\n",
    "lsoas_gdf.head()"
   ]
  },
  {
   "cell_type": "code",
   "execution_count": null,
   "metadata": {},
   "outputs": [],
   "source": [
    "lsoas_gdf = lsoas_gdf[['LSOA11CD', 'LSOA11NM', 'geometry']]\n",
    "newcolumns = ['code','lsoa','geometry']\n",
    "lsoas_gdf.columns = newcolumns\n",
    "lsoas_gdf.head()"
   ]
  },
  {
   "cell_type": "code",
   "execution_count": null,
   "metadata": {},
   "outputs": [],
   "source": [
    "lsoas_pubs_count = pd.DataFrame(ldn_pubs['lsoa'].value_counts().astype(int)).reset_index()\n",
    "lsoas_pubs_count.columns = ['lsoa','Numbers']\n",
    "lsoas_pubs_count.head()"
   ]
  },
  {
   "cell_type": "code",
   "execution_count": null,
   "metadata": {},
   "outputs": [],
   "source": [
    "join_gdf = lsoas_gdf.merge(lsoas_pubs_count, on='lsoa')\n",
    "join_gdf.to_file(driver='ESRI Shapefile', filename='data/lsoa_numbers.shp')\n",
    "join_gdf.plot(column='Numbers', cmap='copper', scheme='quantiles', alpha=0.7, legend=True)"
   ]
  },
  {
   "cell_type": "code",
   "execution_count": null,
   "metadata": {},
   "outputs": [],
   "source": [
    "join_gdf.head()"
   ]
  },
  {
   "cell_type": "code",
   "execution_count": null,
   "metadata": {},
   "outputs": [],
   "source": [
    "fig, ax1 = plt.subplots(1, figsize=(12, 10))   \n",
    "join_gdf['area']=join_gdf.geometry.area\n",
    "join_gdf['density'] = join_gdf.apply(lambda row: 100000*row.Numbers / row.area, axis=1)\n",
    "join_gdf.plot(ax=ax1, column='density', scheme='EqualInterval', cmap='coolwarm', legend=True, linewidth=0.1, edgecolor='black',\n",
    "             legend_kwds={'title': \"Densite of Pubs across London\", 'loc': 'upper right'})\n",
    "\n",
    "plt.title('Density of Pubs across London', fontsize=25)\n",
    "\n",
    "plt.savefig('D3N51TY.png') \n",
    "ax1.axis('off')"
   ]
  },
  {
   "cell_type": "code",
   "execution_count": null,
   "metadata": {},
   "outputs": [],
   "source": [
    "join_gdf.hist('density', color='blue', edgecolor='black', grid=False)"
   ]
  },
  {
   "cell_type": "code",
   "execution_count": null,
   "metadata": {},
   "outputs": [],
   "source": [
    "EI = mp.EqualInterval(join_gdf['density'], k=5)\n",
    "\n",
    "bins = list(EI.bins)\n",
    "minimum = [join_gdf['density'].min()]\n",
    "bins = minimum + bins\n",
    "print(bins)\n",
    "\n",
    "#ax1.axis('off')\n",
    "#ax1.set_xlim(500000,596000)   #axis limits\n",
    "#axins = ax1.inset_axes([0.66, 0.15, 0.3, 0.3])\n",
    "\n",
    "join_gdf['density'].hist(bins=bins, grid=False, color='blue')\n",
    "\n",
    "#bboroughs['gas_total'].hist(color='green', \n",
    " #                           edgecolor='black', \n",
    "  #                          grid=False, \n",
    "   #                         bins=bins, \n",
    "    #                        ax=axins, figure=fig2)\n"
   ]
  },
  {
   "cell_type": "code",
   "execution_count": null,
   "metadata": {},
   "outputs": [],
   "source": [
    "pp_pubs.plot(title=\"London Pubs\")\n",
    "plt.axis('off')\n",
    "plt.xlabel(\"Average Pulse\")\n",
    "plt.ylabel(\"Calorie Burnage\") \n",
    "\n",
    "plt.savefig('my_map_export.png') "
   ]
  },
  {
   "cell_type": "code",
   "execution_count": null,
   "metadata": {},
   "outputs": [],
   "source": [
    "from bokeh.io import output_notebook, show, push_notebook\n",
    "from bokeh.layouts import gridplot,row,column\n",
    "from bokeh.plotting import figure,show\n",
    "output_notebook()"
   ]
  },
  {
   "cell_type": "code",
   "execution_count": null,
   "metadata": {},
   "outputs": [],
   "source": [
    "from shapely.geometry import Point\n",
    "pdf       = pd.read_csv('data/London_Pubs/LondonPubs.csv')\n",
    "geometry = [Point(xy) for xy in zip(pdf.longitude, pdf.latitude)]\n",
    "crs      = {'init': 'epsg:4326'} \n",
    "sdf      = gpd.GeoDataFrame(pdf, crs=crs, geometry=geometry)\n",
    "pubdf  = sdf.to_crs({'init': 'epsg:27700'}) \n",
    "pubdf.head()"
   ]
  },
  {
   "cell_type": "code",
   "execution_count": null,
   "metadata": {},
   "outputs": [],
   "source": [
    "print(\"???\")"
   ]
  },
  {
   "cell_type": "code",
   "execution_count": null,
   "metadata": {},
   "outputs": [],
   "source": [
    "sns.jointplot(x='longitude', y='latitude', data=pubdf, kind=\"kde\", title='Pubs')\n",
    "plt.suptitle(\"Bivariate Distribution of Pubs (London)\", x=0.5, y=1.01)\n",
    "plt.savefig('beep.png')\n",
    "plt.show()\n",
    "sns.jointplot(x='longitude', y='latitude', data=pubdf, kind=\"kde\")"
   ]
  },
  {
   "cell_type": "code",
   "execution_count": null,
   "metadata": {},
   "outputs": [],
   "source": [
    "f, ax = plt.subplots(figsize=(6, 6))\n",
    "#cmap = sns.cubehelix_palette(as_cmap=True, dark=0, light=1, reverse=True)\n",
    "sns.kdeplot(pubdf.longitude, pubdf.latitude, cmap='coolwarm', n_levels=70, shade=True, legend=True)\n",
    "plt.suptitle(\"2D Kernel Density of Pubs (London)\",x=   0.5, y=0.92)\n",
    "plt.savefig('beep beep 2', bbox_inches='tight', dpi=300)\n",
    "ax.legend()\n",
    "\n",
    "plt.show()"
   ]
  },
  {
   "cell_type": "code",
   "execution_count": null,
   "metadata": {},
   "outputs": [],
   "source": [
    "g = sns.jointplot(x='latitude', y='longitude', data=pubdf, kind=\"kde\", color=\"r\")\n",
    "g.plot_joint(plt.scatter, c=\"black\", s=30, linewidth=1, marker=\"+\")\n",
    "g.ax_joint.collections[0].set_alpha(0)\n",
    "g.set_axis_labels(\"$latitude$\", \"$longitude$\")\n",
    "plt.suptitle(\"Bivariate Distribution of Pubs (London)\", x=0.5, y=1.02)\n",
    "plt.savefig('beep beep', bbox_inches='tight', dpi=300)\n",
    "plt.show()"
   ]
  },
  {
   "cell_type": "code",
   "execution_count": null,
   "metadata": {},
   "outputs": [],
   "source": [
    "geometry = [Point(xy) for xy in zip(pubdf.longitude, pubdf.latitude)]\n",
    "crs      = {'init': 'epsg:4326'} \n",
    "sdf      = gpd.GeoDataFrame(pubdf, crs=crs, geometry=geometry)\n",
    "sdf      = sdf.to_crs({'init': 'epsg:27700'}) "
   ]
  },
  {
   "cell_type": "code",
   "execution_count": null,
   "metadata": {},
   "outputs": [],
   "source": [
    "print('hello world')"
   ]
  },
  {
   "cell_type": "code",
   "execution_count": null,
   "metadata": {},
   "outputs": [],
   "source": [
    "new_pubdf = gpd.GeoSeries(pubdf[['longitude', 'latitude']].apply(Point, axis=1), crs=\"+init=epsg:4326\")\n",
    "bbox = new_pubdf.total_bounds\n",
    "titles=[\"Kernel Density: \"+in_type[i] for i in range(4)]\n",
    "\n",
    "\n",
    "pubneww = pubdf\n",
    "sns.kdeplot(pubneww.longitude, pubneww.latitude, shade=True, cmap='Blues')\n",
    "\n",
    "\n",
    "\n",
    "\n",
    "sns.set(style = 'whitegrid') # aesthetics\n",
    "#sns.despine(left=True) # aesthetics\n",
    "#sns.set_context('paper') # aesthetics\n",
    "#plt.axis('equal')\n",
    "#plt.show()   "
   ]
  }
 ],
 "metadata": {
  "anaconda-cloud": {},
  "kernelspec": {
   "display_name": "Python 3 (ipykernel)",
   "language": "python",
   "name": "python3"
  },
  "language_info": {
   "codemirror_mode": {
    "name": "ipython",
    "version": 3
   },
   "file_extension": ".py",
   "mimetype": "text/x-python",
   "name": "python",
   "nbconvert_exporter": "python",
   "pygments_lexer": "ipython3",
   "version": "3.9.12"
  }
 },
 "nbformat": 4,
 "nbformat_minor": 4
}
